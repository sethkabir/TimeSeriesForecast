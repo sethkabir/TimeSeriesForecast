{
 "cells": [
  {
   "cell_type": "markdown",
   "id": "36731a4a-13d1-4401-925c-c32e58262752",
   "metadata": {
    "tags": []
   },
   "source": [
    "# Project 1\n",
    "## Time Series Forecasting"
   ]
  },
  {
   "cell_type": "markdown",
   "id": "459fcb94-e93f-4f9d-90da-e54909515431",
   "metadata": {
    "tags": []
   },
   "source": [
    "### Importing libraries and importing dataset"
   ]
  },
  {
   "cell_type": "code",
   "execution_count": 38,
   "id": "15dc64ae-b61e-4560-8678-d1a8c29cc976",
   "metadata": {},
   "outputs": [],
   "source": [
    "#importing libraries\n",
    "import pandas as pd\n",
    "import numpy as np\n",
    "from prophet import Prophet\n",
    "import warnings\n",
    "warnings.filterwarnings(\"ignore\")\n",
    "np.random.seed(7)"
   ]
  },
  {
   "cell_type": "code",
   "execution_count": 39,
   "id": "a56833e0-4fd5-4ee8-af85-61c4e75e5e96",
   "metadata": {},
   "outputs": [],
   "source": [
    "#loading dataset\n",
    "data = pd.read_csv(\"DATASET.csv\");\n",
    "#dropping rows (as the count is not 10)\n",
    "data = data.drop(index=[910, 911, 912, 913, 914, 915, 916, 917, 918])"
   ]
  },
  {
   "cell_type": "markdown",
   "id": "3d80d5da-975c-4aa0-94ae-010ebd74d81f",
   "metadata": {
    "jp-MarkdownHeadingCollapsed": true,
    "tags": []
   },
   "source": [
    "### Data preprocessing"
   ]
  },
  {
   "cell_type": "code",
   "execution_count": 40,
   "id": "2e18dd44-49a2-4c24-b96f-4c53747f0979",
   "metadata": {},
   "outputs": [
    {
     "data": {
      "text/html": [
       "<div>\n",
       "<style scoped>\n",
       "    .dataframe tbody tr th:only-of-type {\n",
       "        vertical-align: middle;\n",
       "    }\n",
       "\n",
       "    .dataframe tbody tr th {\n",
       "        vertical-align: top;\n",
       "    }\n",
       "\n",
       "    .dataframe thead th {\n",
       "        text-align: right;\n",
       "    }\n",
       "</style>\n",
       "<table border=\"1\" class=\"dataframe\">\n",
       "  <thead>\n",
       "    <tr style=\"text-align: right;\">\n",
       "      <th></th>\n",
       "      <th>Unnamed: 0</th>\n",
       "      <th>year</th>\n",
       "      <th>Para-1</th>\n",
       "      <th>Para-2</th>\n",
       "      <th>Para-3</th>\n",
       "      <th>Para-4</th>\n",
       "      <th>Para-5</th>\n",
       "      <th>Para-6</th>\n",
       "      <th>Para-7</th>\n",
       "      <th>Para-8</th>\n",
       "      <th>Para-9</th>\n",
       "      <th>Para-10</th>\n",
       "      <th>Para-11</th>\n",
       "      <th>Para-12</th>\n",
       "      <th>Para-13</th>\n",
       "    </tr>\n",
       "  </thead>\n",
       "  <tbody>\n",
       "    <tr>\n",
       "      <th>0</th>\n",
       "      <td>Sec_1</td>\n",
       "      <td>1</td>\n",
       "      <td>324.0</td>\n",
       "      <td>354.5</td>\n",
       "      <td>17.0</td>\n",
       "      <td>0.0</td>\n",
       "      <td>3</td>\n",
       "      <td>117</td>\n",
       "      <td>2600</td>\n",
       "      <td>400</td>\n",
       "      <td>0.0</td>\n",
       "      <td>0.0</td>\n",
       "      <td>0.0</td>\n",
       "      <td>0</td>\n",
       "      <td>1.52</td>\n",
       "    </tr>\n",
       "    <tr>\n",
       "      <th>1</th>\n",
       "      <td>NaN</td>\n",
       "      <td>2</td>\n",
       "      <td>324.0</td>\n",
       "      <td>161.1</td>\n",
       "      <td>18.2</td>\n",
       "      <td>0.0</td>\n",
       "      <td>4</td>\n",
       "      <td>106</td>\n",
       "      <td>5950</td>\n",
       "      <td>1190</td>\n",
       "      <td>0.0</td>\n",
       "      <td>3.4</td>\n",
       "      <td>0.0</td>\n",
       "      <td>0</td>\n",
       "      <td>1.62</td>\n",
       "    </tr>\n",
       "    <tr>\n",
       "      <th>2</th>\n",
       "      <td>NaN</td>\n",
       "      <td>3</td>\n",
       "      <td>324.0</td>\n",
       "      <td>170.7</td>\n",
       "      <td>18.5</td>\n",
       "      <td>0.0</td>\n",
       "      <td>4</td>\n",
       "      <td>110</td>\n",
       "      <td>5950</td>\n",
       "      <td>1190</td>\n",
       "      <td>0.0</td>\n",
       "      <td>21.3</td>\n",
       "      <td>0.0</td>\n",
       "      <td>4</td>\n",
       "      <td>1.68</td>\n",
       "    </tr>\n",
       "    <tr>\n",
       "      <th>3</th>\n",
       "      <td>NaN</td>\n",
       "      <td>4</td>\n",
       "      <td>324.0</td>\n",
       "      <td>223.9</td>\n",
       "      <td>18.9</td>\n",
       "      <td>0.0</td>\n",
       "      <td>3</td>\n",
       "      <td>110</td>\n",
       "      <td>6150</td>\n",
       "      <td>1340</td>\n",
       "      <td>0.0</td>\n",
       "      <td>21.3</td>\n",
       "      <td>0.0</td>\n",
       "      <td>5</td>\n",
       "      <td>1.78</td>\n",
       "    </tr>\n",
       "    <tr>\n",
       "      <th>4</th>\n",
       "      <td>NaN</td>\n",
       "      <td>5</td>\n",
       "      <td>324.0</td>\n",
       "      <td>228.2</td>\n",
       "      <td>18.4</td>\n",
       "      <td>0.0</td>\n",
       "      <td>2</td>\n",
       "      <td>113</td>\n",
       "      <td>6340</td>\n",
       "      <td>1450</td>\n",
       "      <td>0.0</td>\n",
       "      <td>23.9</td>\n",
       "      <td>0.0</td>\n",
       "      <td>7</td>\n",
       "      <td>1.80</td>\n",
       "    </tr>\n",
       "  </tbody>\n",
       "</table>\n",
       "</div>"
      ],
      "text/plain": [
       "  Unnamed: 0  year  Para-1  Para-2  Para-3  Para-4  Para-5  Para-6  Para-7  \\\n",
       "0      Sec_1     1   324.0   354.5    17.0     0.0       3     117    2600   \n",
       "1        NaN     2   324.0   161.1    18.2     0.0       4     106    5950   \n",
       "2        NaN     3   324.0   170.7    18.5     0.0       4     110    5950   \n",
       "3        NaN     4   324.0   223.9    18.9     0.0       3     110    6150   \n",
       "4        NaN     5   324.0   228.2    18.4     0.0       2     113    6340   \n",
       "\n",
       "   Para-8  Para-9  Para-10  Para-11  Para-12  Para-13  \n",
       "0     400     0.0      0.0      0.0        0     1.52  \n",
       "1    1190     0.0      3.4      0.0        0     1.62  \n",
       "2    1190     0.0     21.3      0.0        4     1.68  \n",
       "3    1340     0.0     21.3      0.0        5     1.78  \n",
       "4    1450     0.0     23.9      0.0        7     1.80  "
      ]
     },
     "execution_count": 40,
     "metadata": {},
     "output_type": "execute_result"
    }
   ],
   "source": [
    "data.head()"
   ]
  },
  {
   "cell_type": "code",
   "execution_count": 41,
   "id": "9bb6803f-960f-441b-a289-697f9ffbddf8",
   "metadata": {},
   "outputs": [],
   "source": [
    "\n",
    "#sections[0].drop(columns=sections[0].columns[[0]], inplace=True)\n",
    "#sections[0]"
   ]
  },
  {
   "cell_type": "code",
   "execution_count": 42,
   "id": "f1a3c8f3-10cf-4693-be17-bc15ff28c9c9",
   "metadata": {},
   "outputs": [],
   "source": [
    "errors = []\n",
    "sections = []\n",
    "\n",
    "for i in range(0, len(data), 10):\n",
    "    sections.append(data[i:i+10])"
   ]
  },
  {
   "cell_type": "code",
   "execution_count": 43,
   "id": "0c341a14-64ac-4fd8-a24a-69d1c7cacf73",
   "metadata": {},
   "outputs": [],
   "source": [
    "indices = np.random.choice(np.arange(len(sections)), 15, replace = False)"
   ]
  },
  {
   "cell_type": "markdown",
   "id": "378a0dbd-4523-4f28-ad48-12d36aba4796",
   "metadata": {
    "jp-MarkdownHeadingCollapsed": true,
    "tags": []
   },
   "source": [
    "### Model training and predictions"
   ]
  },
  {
   "cell_type": "code",
   "execution_count": null,
   "id": "78addf77-32d5-4e34-ae45-0de3ddcfbaa0",
   "metadata": {},
   "outputs": [
    {
     "name": "stderr",
     "output_type": "stream",
     "text": [
      "16:36:18 - cmdstanpy - INFO - Chain [1] start processing\n",
      "16:36:18 - cmdstanpy - INFO - Chain [1] done processing\n",
      "16:36:18 - cmdstanpy - INFO - Chain [1] start processing\n",
      "16:36:18 - cmdstanpy - INFO - Chain [1] done processing\n",
      "16:36:19 - cmdstanpy - INFO - Chain [1] start processing\n",
      "16:36:19 - cmdstanpy - INFO - Chain [1] done processing\n",
      "16:36:19 - cmdstanpy - INFO - Chain [1] start processing\n",
      "16:36:19 - cmdstanpy - INFO - Chain [1] done processing\n",
      "16:36:19 - cmdstanpy - INFO - Chain [1] start processing\n",
      "16:36:19 - cmdstanpy - INFO - Chain [1] done processing\n",
      "16:36:20 - cmdstanpy - INFO - Chain [1] start processing\n",
      "16:36:20 - cmdstanpy - INFO - Chain [1] done processing\n",
      "16:36:20 - cmdstanpy - INFO - Chain [1] start processing\n",
      "16:36:20 - cmdstanpy - INFO - Chain [1] done processing\n",
      "16:36:21 - cmdstanpy - INFO - Chain [1] start processing\n",
      "16:36:21 - cmdstanpy - INFO - Chain [1] done processing\n",
      "16:36:21 - cmdstanpy - INFO - Chain [1] start processing\n",
      "16:36:26 - cmdstanpy - INFO - Chain [1] done processing\n",
      "16:36:26 - cmdstanpy - INFO - Chain [1] start processing\n",
      "16:36:26 - cmdstanpy - INFO - Chain [1] done processing\n",
      "16:36:26 - cmdstanpy - INFO - Chain [1] start processing\n",
      "16:36:26 - cmdstanpy - INFO - Chain [1] done processing\n",
      "16:36:27 - cmdstanpy - INFO - Chain [1] start processing\n",
      "16:36:27 - cmdstanpy - INFO - Chain [1] done processing\n",
      "16:36:27 - cmdstanpy - INFO - Chain [1] start processing\n",
      "16:36:32 - cmdstanpy - INFO - Chain [1] done processing\n",
      "16:36:32 - cmdstanpy - INFO - Chain [1] start processing\n",
      "16:36:32 - cmdstanpy - INFO - Chain [1] done processing\n",
      "16:36:32 - cmdstanpy - INFO - Chain [1] start processing\n",
      "16:36:32 - cmdstanpy - INFO - Chain [1] done processing\n",
      "16:36:33 - cmdstanpy - INFO - Chain [1] start processing\n",
      "16:36:33 - cmdstanpy - INFO - Chain [1] done processing\n",
      "16:36:33 - cmdstanpy - INFO - Chain [1] start processing\n",
      "16:36:33 - cmdstanpy - INFO - Chain [1] done processing\n",
      "16:36:33 - cmdstanpy - INFO - Chain [1] start processing\n",
      "16:36:33 - cmdstanpy - INFO - Chain [1] done processing\n",
      "16:36:34 - cmdstanpy - INFO - Chain [1] start processing\n",
      "16:36:34 - cmdstanpy - INFO - Chain [1] done processing\n",
      "16:36:34 - cmdstanpy - INFO - Chain [1] start processing\n",
      "16:36:34 - cmdstanpy - INFO - Chain [1] done processing\n",
      "16:36:35 - cmdstanpy - INFO - Chain [1] start processing\n",
      "16:36:35 - cmdstanpy - INFO - Chain [1] done processing\n",
      "16:36:35 - cmdstanpy - INFO - Chain [1] start processing\n"
     ]
    }
   ],
   "source": [
    "#errors = []\n",
    "#sections = []\n",
    "\n",
    "#for i in range(0, len(data), 10):\n",
    "#    sections.append(data[i:i+10])\n",
    "\n",
    "#a = np.random.choice(sections, 15, replace = False)\n",
    "for i in indices:\n",
    "    section = sections[i]\n",
    "    section.drop(columns=section.columns[[0]], inplace=True)\n",
    "    section['year'] = pd.date_range(start='12/1/2012', periods=10, freq=pd.offsets.MonthEnd(12))\n",
    "    parameters = []\n",
    "\n",
    "    for i in range(5):\n",
    "        p = section.iloc[: , [0, i+9]]\n",
    "        p.rename(columns = {'year': 'ds' , p.columns.tolist()[1]: 'y'}, inplace = True)\n",
    "        p = p.reset_index()\n",
    "        parameters.append(p)\n",
    "        \n",
    "    all_forecasts = []\n",
    "    for parameter in parameters:\n",
    "        m = Prophet()\n",
    "        m.fit(parameter.iloc[:, :8])\n",
    "        future = m.make_future_dataframe(periods=1,freq='Y')\n",
    "        forecast = m.predict(future)\n",
    "        all_forecasts.append(forecast)\n",
    "        \n",
    "        \n",
    "    preds, actual = [], []\n",
    "\n",
    "    for forecast in all_forecasts:\n",
    "#         print(forecast['yhat'][9])\n",
    "        preds.append(forecast['yhat'][9])\n",
    "#     print()\n",
    "    for parameter in parameters:\n",
    "#         print(parameter['y'][9])\n",
    "        actual.append(parameter['y'][9])\n",
    "        \n",
    "        \n",
    "    from sklearn.metrics import mean_squared_error\n",
    "    errors.append(mean_squared_error(preds, actual))\n",
    "#    print(mean_squared_error(preds, actual))"
   ]
  },
  {
   "cell_type": "markdown",
   "id": "dfa0b360-44b3-42fd-a8fa-81b01dec4187",
   "metadata": {},
   "source": [
    "### Outputs"
   ]
  },
  {
   "cell_type": "code",
   "execution_count": null,
   "id": "9144013d-2c91-4c10-a6d2-f903eafebcec",
   "metadata": {},
   "outputs": [],
   "source": [
    "errors"
   ]
  },
  {
   "cell_type": "code",
   "execution_count": null,
   "id": "97a6e839-7864-4328-8b3b-b5a2b4528f0f",
   "metadata": {},
   "outputs": [],
   "source": [
    "final_rmse = np.mean(errors)"
   ]
  },
  {
   "cell_type": "code",
   "execution_count": null,
   "id": "dc18188b-6fe4-46c1-9bd0-fe1085e34830",
   "metadata": {},
   "outputs": [],
   "source": [
    "final_rmse"
   ]
  }
 ],
 "metadata": {
  "kernelspec": {
   "display_name": "Python 3 (ipykernel)",
   "language": "python",
   "name": "python3"
  },
  "language_info": {
   "codemirror_mode": {
    "name": "ipython",
    "version": 3
   },
   "file_extension": ".py",
   "mimetype": "text/x-python",
   "name": "python",
   "nbconvert_exporter": "python",
   "pygments_lexer": "ipython3",
   "version": "3.8.11"
  }
 },
 "nbformat": 4,
 "nbformat_minor": 5
}
